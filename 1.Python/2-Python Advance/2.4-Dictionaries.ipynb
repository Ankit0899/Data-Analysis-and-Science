{
 "cells": [
  {
   "cell_type": "markdown",
   "metadata": {},
   "source": [
    "#### Dictionaries"
   ]
  },
  {
   "cell_type": "markdown",
   "metadata": {},
   "source": []
  },
  {
   "cell_type": "code",
   "execution_count": 2,
   "metadata": {},
   "outputs": [
    {
     "name": "stdout",
     "output_type": "stream",
     "text": [
      "<class 'dict'>\n"
     ]
    }
   ],
   "source": [
    "## Creating Dictionaries\n",
    "empty_dist={}\n",
    "print(type(empty_dist))"
   ]
  },
  {
   "cell_type": "code",
   "execution_count": 3,
   "metadata": {},
   "outputs": [
    {
     "name": "stdout",
     "output_type": "stream",
     "text": [
      "{'name': 'ankit', 'age': 25, 'grade': 90}\n"
     ]
    }
   ],
   "source": [
    "Student={\"name\":\"ankit\",\"age\":25,\"grade\":90}\n",
    "print(Student)"
   ]
  },
  {
   "cell_type": "code",
   "execution_count": 4,
   "metadata": {},
   "outputs": [
    {
     "name": "stdout",
     "output_type": "stream",
     "text": [
      "{'name': 35, 'age': 25, 'grade': 90}\n"
     ]
    }
   ],
   "source": [
    "## Single keys is always used\n",
    "Student={\"name\":\"ankit\",\"age\":25,\"grade\":90,\"name\":35}\n",
    "print(Student)"
   ]
  },
  {
   "cell_type": "code",
   "execution_count": 10,
   "metadata": {},
   "outputs": [
    {
     "name": "stdout",
     "output_type": "stream",
     "text": [
      "A\n",
      "25\n",
      "ankit\n",
      "None\n"
     ]
    }
   ],
   "source": [
    "## Accessing dict Elements\n",
    "Student={\"name\":\"ankit\",\"age\":25,\"grade\":\"A\"}\n",
    "print(Student['grade'])\n",
    "print(Student['age'])\n",
    "\n",
    "\n",
    "## Accessing using get() method\n",
    "\n",
    "print(Student.get('name'))\n",
    "print(Student.get('last_name'))"
   ]
  },
  {
   "cell_type": "code",
   "execution_count": 13,
   "metadata": {},
   "outputs": [
    {
     "name": "stdout",
     "output_type": "stream",
     "text": [
      "{'name': 'ankit', 'age': 26, 'grade': 'A'}\n",
      "{'name': 'ankit', 'age': 26, 'grade': 'A', 'address': 'Indore'}\n"
     ]
    }
   ],
   "source": [
    "## Modifying Dictionary Elements\n",
    "\n",
    "Student={\"name\":\"ankit\",\"age\":25,\"grade\":\"A\"}\n",
    "\n",
    "Student[\"age\"] = 26 ## Update Value\n",
    "print(Student)\n",
    "Student[\"address\"] = \"Indore\" ## Add a new key \n",
    "print(Student)"
   ]
  },
  {
   "cell_type": "code",
   "execution_count": 14,
   "metadata": {},
   "outputs": [
    {
     "name": "stdout",
     "output_type": "stream",
     "text": [
      "{'name': 'ankit', 'age': 26, 'address': 'Indore'}\n"
     ]
    }
   ],
   "source": [
    "## Delete a Key\n",
    "\n",
    "del Student['grade']\n",
    "print(Student)"
   ]
  },
  {
   "cell_type": "markdown",
   "metadata": {},
   "source": [
    "## Dictionary Methods"
   ]
  },
  {
   "cell_type": "code",
   "execution_count": 15,
   "metadata": {},
   "outputs": [
    {
     "data": {
      "text/plain": [
       "{'name': 'ankit', 'age': 26, 'address': 'Indore'}"
      ]
     },
     "execution_count": 15,
     "metadata": {},
     "output_type": "execute_result"
    }
   ],
   "source": [
    "Student"
   ]
  },
  {
   "cell_type": "code",
   "execution_count": 17,
   "metadata": {},
   "outputs": [
    {
     "name": "stdout",
     "output_type": "stream",
     "text": [
      "dict_keys(['name', 'age', 'address'])\n",
      "dict_values(['ankit', 26, 'Indore'])\n",
      "dict_items([('name', 'ankit'), ('age', 26), ('address', 'Indore')])\n"
     ]
    }
   ],
   "source": [
    "keys=Student.keys() ## get all the keys\n",
    "print(keys)\n",
    "\n",
    "value=Student.values() ## Get all the values\n",
    "print(value)\n",
    "\n",
    "items=Student.items() ## Get all the key value paior\n",
    "print(items)"
   ]
  },
  {
   "cell_type": "code",
   "execution_count": 19,
   "metadata": {},
   "outputs": [
    {
     "name": "stdout",
     "output_type": "stream",
     "text": [
      "{'name': 'ankit', 'age': 26, 'address': 'Indore'}\n",
      "{'name': 'ankit', 'age': 26, 'address': 'Indore'}\n"
     ]
    }
   ],
   "source": [
    "## Shallow Copy\n",
    "\n",
    "Student_copy=Student.copy()\n",
    "print(Student)\n",
    "print(Student_copy)"
   ]
  },
  {
   "cell_type": "code",
   "execution_count": 20,
   "metadata": {},
   "outputs": [
    {
     "name": "stdout",
     "output_type": "stream",
     "text": [
      "{'name': 'Atul', 'age': 26, 'address': 'Indore'}\n",
      "{'name': 'ankit', 'age': 26, 'address': 'Indore'}\n"
     ]
    }
   ],
   "source": [
    "Student[\"name\"]=\"Atul\"\n",
    "print(Student)\n",
    "print(Student_copy)\n"
   ]
  },
  {
   "cell_type": "markdown",
   "metadata": {},
   "source": [
    "## Iterating  Over Dictionaries"
   ]
  },
  {
   "cell_type": "code",
   "execution_count": 21,
   "metadata": {},
   "outputs": [
    {
     "name": "stdout",
     "output_type": "stream",
     "text": [
      "name\n",
      "age\n",
      "address\n"
     ]
    }
   ],
   "source": [
    "## Iterating over a keys\n",
    "for keys in Student.keys():\n",
    "    print(keys)"
   ]
  },
  {
   "cell_type": "code",
   "execution_count": 24,
   "metadata": {},
   "outputs": [
    {
     "name": "stdout",
     "output_type": "stream",
     "text": [
      "Atul\n",
      "26\n",
      "Indore\n"
     ]
    }
   ],
   "source": [
    "## Iterating over a Values\n",
    "for Value in Student.values():\n",
    "    print(Value)"
   ]
  },
  {
   "cell_type": "code",
   "execution_count": 25,
   "metadata": {},
   "outputs": [
    {
     "name": "stdout",
     "output_type": "stream",
     "text": [
      "name:Atul\n",
      "age:26\n",
      "address:Indore\n"
     ]
    }
   ],
   "source": [
    "## Iterating over a key, Values pair\n",
    "for key, value in Student.items():\n",
    "    print(f\"{key}:{value}\")\n"
   ]
  },
  {
   "cell_type": "code",
   "execution_count": 27,
   "metadata": {},
   "outputs": [
    {
     "name": "stdout",
     "output_type": "stream",
     "text": [
      "{'student1': {'name': 'Ankit', 'age': 25}, 'student2': {'name': 'Atul', 'age': 26}}\n"
     ]
    }
   ],
   "source": [
    "## Nested Dictionaries\n",
    "\n",
    "Students={\n",
    "    \"student1\":{\"name\":\"Ankit\", \"age\":25},\n",
    "    \"student2\":{\"name\":\"Atul\", \"age\":26}\n",
    "}\n",
    "print(Students)"
   ]
  },
  {
   "cell_type": "code",
   "execution_count": 28,
   "metadata": {},
   "outputs": [
    {
     "name": "stdout",
     "output_type": "stream",
     "text": [
      "Atul\n",
      "26\n"
     ]
    }
   ],
   "source": [
    "## Access nested dictionaries elements\n",
    "print(Students[\"student2\"][\"name\"])\n",
    "print(Students[\"student2\"][\"age\"])"
   ]
  },
  {
   "cell_type": "code",
   "execution_count": 29,
   "metadata": {},
   "outputs": [
    {
     "data": {
      "text/plain": [
       "dict_items([('student1', {'name': 'Ankit', 'age': 25}), ('student2', {'name': 'Atul', 'age': 26})])"
      ]
     },
     "execution_count": 29,
     "metadata": {},
     "output_type": "execute_result"
    }
   ],
   "source": [
    "Students.items()"
   ]
  },
  {
   "cell_type": "code",
   "execution_count": 30,
   "metadata": {},
   "outputs": [
    {
     "name": "stdout",
     "output_type": "stream",
     "text": [
      "student1:{'name': 'Ankit', 'age': 25}\n",
      "name:Ankit\n",
      "age:25\n",
      "student2:{'name': 'Atul', 'age': 26}\n",
      "name:Atul\n",
      "age:26\n"
     ]
    }
   ],
   "source": [
    "## iterating over Nested dictionaries\n",
    "\n",
    "for student_id, student_info in Students.items():\n",
    "    print(f\"{student_id}:{student_info}\")\n",
    "    for key, value in student_info.items():\n",
    "        print(f\"{key}:{value}\")\n"
   ]
  },
  {
   "cell_type": "markdown",
   "metadata": {},
   "source": [
    "### Dictionanry Comphrehension"
   ]
  },
  {
   "cell_type": "code",
   "execution_count": 31,
   "metadata": {},
   "outputs": [
    {
     "name": "stdout",
     "output_type": "stream",
     "text": [
      "{0: 0, 1: 1, 2: 4, 3: 9, 4: 16}\n"
     ]
    }
   ],
   "source": [
    "squares={x:x**2 for x in range(5)}\n",
    "print(squares)"
   ]
  },
  {
   "cell_type": "code",
   "execution_count": 32,
   "metadata": {},
   "outputs": [
    {
     "name": "stdout",
     "output_type": "stream",
     "text": [
      "{0: 0, 2: 4, 4: 16}\n"
     ]
    }
   ],
   "source": [
    "## Condition Dictionanry Comphrehension\n",
    "\n",
    "even = {x:x**2 for x in range(5) if x%2==0}\n",
    "print(even)"
   ]
  },
  {
   "cell_type": "code",
   "execution_count": null,
   "metadata": {},
   "outputs": [],
   "source": []
  }
 ],
 "metadata": {
  "kernelspec": {
   "display_name": "venv",
   "language": "python",
   "name": "python3"
  },
  "language_info": {
   "codemirror_mode": {
    "name": "ipython",
    "version": 3
   },
   "file_extension": ".py",
   "mimetype": "text/x-python",
   "name": "python",
   "nbconvert_exporter": "python",
   "pygments_lexer": "ipython3",
   "version": "3.12.0"
  }
 },
 "nbformat": 4,
 "nbformat_minor": 2
}
