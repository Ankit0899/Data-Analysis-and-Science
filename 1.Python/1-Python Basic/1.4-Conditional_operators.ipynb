{
 "cells": [
  {
   "cell_type": "markdown",
   "metadata": {},
   "source": [
    "#### Conditional Statements (if, elif, else)\n",
    "1. Introduction to Conditional Statements\n",
    "2. if Statement\n",
    "3. else Statement\n",
    "4. elif Statement\n",
    "5. Nested Conditional Statements\n",
    "6. Practical Examples\n",
    "7. Common Errors and Best Practices"
   ]
  },
  {
   "cell_type": "code",
   "execution_count": 1,
   "metadata": {},
   "outputs": [
    {
     "name": "stdout",
     "output_type": "stream",
     "text": [
      "Vote\n"
     ]
    }
   ],
   "source": [
    "## If statement\n",
    "age = 20\n",
    "\n",
    "if age >= 18:\n",
    "    print(\"Vote\")"
   ]
  },
  {
   "cell_type": "code",
   "execution_count": 3,
   "metadata": {},
   "outputs": [
    {
     "name": "stdout",
     "output_type": "stream",
     "text": [
      "Not Voted\n"
     ]
    }
   ],
   "source": [
    "## Else -/> The else statement executes a block of code if the condition in the if statement false\n",
    "age = 15\n",
    "\n",
    "if age >=18:\n",
    "    print(\"Voted\")\n",
    "else:\n",
    "    print(\"Not Voted\")"
   ]
  },
  {
   "cell_type": "code",
   "execution_count": 4,
   "metadata": {},
   "outputs": [
    {
     "name": "stdout",
     "output_type": "stream",
     "text": [
      "you are a adult\n"
     ]
    }
   ],
   "source": [
    "## elif -/> the elif statement allow you to check multiple conditions. it stands for \" else if \"\n",
    "\n",
    "age =20\n",
    "\n",
    "if age<15:\n",
    "    print(\"You are a child\")\n",
    "elif age<18:\n",
    "    print(\"you are a teenager\")\n",
    "else:\n",
    "    print(\"you are a adult\")"
   ]
  },
  {
   "cell_type": "code",
   "execution_count": 9,
   "metadata": {},
   "outputs": [
    {
     "name": "stdout",
     "output_type": "stream",
     "text": [
      "Number is zero or nagetive\n"
     ]
    }
   ],
   "source": [
    "## Nested Conditional statement\n",
    "## you can place one or more if, elif, else statement inside another if, elif, else statement to create nested condition statement\n",
    "\n",
    "## even, odd, nagetive\n",
    "\n",
    "num = int(input(\"Enter the number\"))\n",
    "\n",
    "if num>0:\n",
    "    print(\"number is positive\")\n",
    "    if num%2==0:\n",
    "        print(\"Number is Even\")\n",
    "    else:\n",
    "        print(\"the number is odd\")\n",
    "else:\n",
    "    print(\"Number is zero or nagetive\")"
   ]
  },
  {
   "cell_type": "code",
   "execution_count": 15,
   "metadata": {},
   "outputs": [
    {
     "name": "stdout",
     "output_type": "stream",
     "text": [
      "2024 is a leap year\n"
     ]
    }
   ],
   "source": [
    "## Leap year or not using nested statement\n",
    "\n",
    "year = int(input(\"Enter the year\"))\n",
    "\n",
    "if year%4==0:\n",
    "    if year%100==0:\n",
    "        if year%400==0:\n",
    "            print(year, \"is a Leap year\")\n",
    "        else:\n",
    "            print(year, \"Not a leap year\")\n",
    "    else:\n",
    "        print(year,\"is a leap year\")\n",
    "else:\n",
    "    print(year,\"not a leap year\")"
   ]
  },
  {
   "cell_type": "code",
   "execution_count": null,
   "metadata": {},
   "outputs": [],
   "source": []
  }
 ],
 "metadata": {
  "kernelspec": {
   "display_name": "Python 3",
   "language": "python",
   "name": "python3"
  },
  "language_info": {
   "codemirror_mode": {
    "name": "ipython",
    "version": 3
   },
   "file_extension": ".py",
   "mimetype": "text/x-python",
   "name": "python",
   "nbconvert_exporter": "python",
   "pygments_lexer": "ipython3",
   "version": "3.12.0"
  }
 },
 "nbformat": 4,
 "nbformat_minor": 2
}
