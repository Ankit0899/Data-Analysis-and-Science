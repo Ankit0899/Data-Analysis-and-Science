{
 "cells": [
  {
   "cell_type": "markdown",
   "metadata": {},
   "source": [
    "### Function In Python"
   ]
  },
  {
   "cell_type": "markdown",
   "metadata": {},
   "source": [
    "A function is a block of code that perform a specific task"
   ]
  },
  {
   "cell_type": "markdown",
   "metadata": {},
   "source": [
    "## Syntax\n",
    "def function_name(parameters):\n",
    "    \"\"\" DocString \"\"\"\n",
    "    ## Function Body\n",
    "    return expression"
   ]
  },
  {
   "cell_type": "code",
   "execution_count": 1,
   "metadata": {},
   "outputs": [
    {
     "name": "stdout",
     "output_type": "stream",
     "text": [
      "Number is Even\n"
     ]
    }
   ],
   "source": [
    "def even_or_odd(num):\n",
    "    if num%2==0:\n",
    "        print(\"Number is Even\")\n",
    "    else:\n",
    "        print(\"Number is odd\")\n",
    "\n",
    "even_or_odd(24)"
   ]
  },
  {
   "cell_type": "code",
   "execution_count": 2,
   "metadata": {},
   "outputs": [
    {
     "name": "stdout",
     "output_type": "stream",
     "text": [
      "6\n"
     ]
    }
   ],
   "source": [
    "def add(a,b):\n",
    "    return a+b\n",
    "\n",
    "result = add(2,4)\n",
    "print(result)"
   ]
  },
  {
   "cell_type": "code",
   "execution_count": 4,
   "metadata": {},
   "outputs": [
    {
     "name": "stdout",
     "output_type": "stream",
     "text": [
      "Hello Ankit Welcome to the paradise\n"
     ]
    }
   ],
   "source": [
    "## Default Parameters\n",
    "def greet(name=\"\"):\n",
    "    print(f\"Hello {name} Welcome to the paradise\")\n",
    "\n",
    "greet(\"Ankit\")"
   ]
  },
  {
   "cell_type": "markdown",
   "metadata": {},
   "source": [
    "Variable Length Arguments\n",
    "Positional and Keywords Arguments"
   ]
  },
  {
   "cell_type": "code",
   "execution_count": 6,
   "metadata": {},
   "outputs": [
    {
     "name": "stdout",
     "output_type": "stream",
     "text": [
      "1\n",
      "2\n",
      "3\n",
      "4\n",
      "5\n",
      "6\n",
      "Ankit\n"
     ]
    }
   ],
   "source": [
    "## Positional Arguments\n",
    "def print_number(*args):\n",
    "    for number in args:\n",
    "        print(number)\n",
    "\n",
    "print_number(1,2,3,4,5,6,\"Ankit\")"
   ]
  },
  {
   "cell_type": "code",
   "execution_count": 10,
   "metadata": {},
   "outputs": [
    {
     "name": "stdout",
     "output_type": "stream",
     "text": [
      "name : Ankit\n",
      "age : 25\n",
      "country : India\n"
     ]
    }
   ],
   "source": [
    "## Keywords Arguments\n",
    "def print_detail(**kwargs):\n",
    "    for key, Value in kwargs.items():\n",
    "        print(f\"{key} : {Value}\")\n",
    "\n",
    "print_detail(name=\"Ankit\", age=25, country=\"India\")"
   ]
  },
  {
   "cell_type": "code",
   "execution_count": 11,
   "metadata": {},
   "outputs": [
    {
     "name": "stdout",
     "output_type": "stream",
     "text": [
      "Positional Argument :1\n",
      "Positional Argument :2\n",
      "Positional Argument :3\n",
      "Positional Argument :4\n",
      "name : Ankit\n",
      "age : 25\n",
      "country : India\n"
     ]
    }
   ],
   "source": [
    "def print_detail(*args, **kwargs):\n",
    "    for number in args:\n",
    "        print(f\"Positional Argument :{number}\")\n",
    "\n",
    "    for key, Value in kwargs.items():\n",
    "        print(f\"{key} : {Value}\")\n",
    "\n",
    "print_detail(1,2,3,4,name=\"Ankit\", age=25, country=\"India\")"
   ]
  },
  {
   "cell_type": "code",
   "execution_count": 13,
   "metadata": {},
   "outputs": [
    {
     "data": {
      "text/plain": [
       "(8, 2)"
      ]
     },
     "execution_count": 13,
     "metadata": {},
     "output_type": "execute_result"
    }
   ],
   "source": [
    "## Return Statement\n",
    "def multiply(a,b):\n",
    "    return a*b, a\n",
    "\n",
    "multiply(2,4)"
   ]
  },
  {
   "cell_type": "code",
   "execution_count": null,
   "metadata": {},
   "outputs": [],
   "source": []
  }
 ],
 "metadata": {
  "kernelspec": {
   "display_name": "venv",
   "language": "python",
   "name": "python3"
  },
  "language_info": {
   "codemirror_mode": {
    "name": "ipython",
    "version": 3
   },
   "file_extension": ".py",
   "mimetype": "text/x-python",
   "name": "python",
   "nbconvert_exporter": "python",
   "pygments_lexer": "ipython3",
   "version": "3.12.0"
  }
 },
 "nbformat": 4,
 "nbformat_minor": 2
}
