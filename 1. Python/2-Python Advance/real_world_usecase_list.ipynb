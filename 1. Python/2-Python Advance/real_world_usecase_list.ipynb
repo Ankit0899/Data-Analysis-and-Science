{
 "cells": [
  {
   "cell_type": "markdown",
   "metadata": {},
   "source": [
    "#### Real-World Examples using Lists"
   ]
  },
  {
   "cell_type": "markdown",
   "metadata": {},
   "source": []
  },
  {
   "cell_type": "markdown",
   "metadata": {},
   "source": [
    "### Ex:-1 Manage a To Do list \n",
    "    Create a to do list to keep track of task"
   ]
  },
  {
   "cell_type": "code",
   "execution_count": 1,
   "metadata": {},
   "outputs": [
    {
     "name": "stdout",
     "output_type": "stream",
     "text": [
      "Don't forget to pay utility bill\n",
      "To do list reaming\n",
      "Buy Groceries\n",
      "pay bills\n",
      "Schedule meeting\n",
      "Go for a Run\n"
     ]
    }
   ],
   "source": [
    "to_do_list=[\"Buy Groceries\", \"Clean the house\", \"pay bills\"]\n",
    "\n",
    "## Adding to task\n",
    "to_do_list.append(\"Schedule meeting\")\n",
    "to_do_list.append(\"Go for a Run\")\n",
    "\n",
    "## Removing a complete task\n",
    "to_do_list.remove(\"Clean the house\") \n",
    "\n",
    "## checking if a task in the list\n",
    "if \"pay bills\" in to_do_list:\n",
    "    print(f\"Don't forget to pay utility bill\")\n",
    "\n",
    "print(\"To do list reaming\")\n",
    "\n",
    "for task in to_do_list:\n",
    "    print(f\"{task}\")\n"
   ]
  },
  {
   "cell_type": "markdown",
   "metadata": {},
   "source": [
    "### Ex:-2 Organizing Student Grades\n",
    "     Create a list to store and calculate average grades for students"
   ]
  },
  {
   "cell_type": "code",
   "execution_count": 2,
   "metadata": {},
   "outputs": [
    {
     "name": "stdout",
     "output_type": "stream",
     "text": [
      "Avarage grade : 88.00\n",
      "highest grade :95\n",
      "lowest grade :78\n"
     ]
    }
   ],
   "source": [
    "grades=[85, 92, 78, 90, 88]\n",
    "\n",
    "# Adding a new grade \n",
    "grades.append(95)\n",
    "\n",
    "# Calculating the average grade \n",
    "avg_grade = sum(grades) / len(grades)\n",
    "print(f\"Avarage grade : {avg_grade:.2f}\")\n",
    "\n",
    "# Finding the highest and lowest grade\n",
    "highest_grade = max(grades)\n",
    "lowest_grade = min(grades)\n",
    "\n",
    "print(f\"highest grade :{highest_grade}\")\n",
    "print(f\"lowest grade :{lowest_grade}\")"
   ]
  },
  {
   "cell_type": "markdown",
   "metadata": {},
   "source": [
    "### Ex:-3 Managing An Inventory\n",
    "    Use a list to manage inventory items in a store"
   ]
  },
  {
   "cell_type": "code",
   "execution_count": 3,
   "metadata": {},
   "outputs": [
    {
     "name": "stdout",
     "output_type": "stream",
     "text": [
      "oranges are in stock\n",
      "- apples\n",
      "- oranges\n",
      "- grapes\n",
      "- strawberries\n"
     ]
    }
   ],
   "source": [
    "# Manage a inventory\n",
    "inventory = [\"apples\", \"bananas\", \"oranges\", \"grapes\"]\n",
    "\n",
    "# add a new items\n",
    "inventory.append(\"strawberries\")\n",
    "\n",
    "# Remove an item that is out of stock\n",
    "inventory.remove(\"bananas\")\n",
    "\n",
    "# checking if an item is in stock\n",
    "item = \"oranges\"\n",
    "if item in inventory:\n",
    "    print(f\"{item} are in stock\")\n",
    "else:\n",
    "    print(f\"{item} are out of stock\")\n",
    "\n",
    "# Printing the inventory\n",
    "for item in inventory:\n",
    "    print(f\"- {item}\")"
   ]
  },
  {
   "cell_type": "code",
   "execution_count": null,
   "metadata": {},
   "outputs": [],
   "source": []
  }
 ],
 "metadata": {
  "kernelspec": {
   "display_name": "venv",
   "language": "python",
   "name": "python3"
  },
  "language_info": {
   "codemirror_mode": {
    "name": "ipython",
    "version": 3
   },
   "file_extension": ".py",
   "mimetype": "text/x-python",
   "name": "python",
   "nbconvert_exporter": "python",
   "pygments_lexer": "ipython3",
   "version": "3.12.0"
  }
 },
 "nbformat": 4,
 "nbformat_minor": 2
}
